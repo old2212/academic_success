{
 "cells": [
  {
   "cell_type": "code",
   "execution_count": 20,
   "metadata": {},
   "outputs": [],
   "source": [
    "## for data\n",
    "import pandas as pd\n",
    "import numpy as np\n",
    "## for plotting\n",
    "import matplotlib.pyplot as plt\n",
    "import seaborn as sns\n",
    "import matplotlib.axes\n",
    "## for statistical tests\n",
    "import scipy\n",
    "# import statsmodels.formula.api as smf\n",
    "# import statsmodels.api as sm\n",
    "## for machine learning\n",
    "from sklearn import model_selection, preprocessing, feature_selection, ensemble, linear_model, metrics, decomposition\n",
    "## for explainer\n",
    "# from lime import lime_tabular\n",
    "import matplotlib.ticker as plticker\n",
    "import pickle"
   ]
  },
  {
   "cell_type": "code",
   "execution_count": 21,
   "metadata": {},
   "outputs": [],
   "source": [
    "#Predit on the test set\n",
    "dfv = pd.read_csv(\"test.csv\")"
   ]
  },
  {
   "cell_type": "code",
   "execution_count": 22,
   "metadata": {},
   "outputs": [],
   "source": [
    "dfv = pd.get_dummies(dfv, columns=['Marital status'])\n",
    "dfv = pd.get_dummies(dfv, columns=['Application mode'])\n",
    "dfv = pd.get_dummies(dfv, columns=['Course'])\n",
    "dfv = pd.get_dummies(dfv, columns=['Previous qualification'])\n",
    "dfv = pd.get_dummies(dfv, columns=['Nacionality'])\n",
    "dfv = pd.get_dummies(dfv, columns=[\"Mother's occupation\"])\n",
    "dfv = pd.get_dummies(dfv, columns=[\"Father's occupation\"])\n",
    "\n",
    "#DROP AND CREATE\n",
    "dfv = dfv.drop([\"Mother's qualification\", \"Father's qualification\"], axis=1)\n",
    "dfv[\"valid_enroll_sem2\"] = dfv[\"Curricular units 2nd sem (enrolled)\"] - dfv[\"Curricular units 2nd sem (approved)\"]\n",
    "dfv[\"valid_enroll_sem1\"] = dfv[\"Curricular units 1st sem (enrolled)\"] - dfv[\"Curricular units 1st sem (approved)\"]\n",
    "dfv[\"gap_enroll_valid\"] = dfv[\"valid_enroll_sem1\"] - dfv[\"valid_enroll_sem2\"]\n",
    "\n",
    "#MinMax-Scaler\n",
    "scaler = preprocessing.MinMaxScaler(feature_range=(0,1))\n",
    "X = scaler.fit_transform(dfv.drop([\"Id\"], axis=1))\n",
    "dtf_scaled= pd.DataFrame(X, columns=dfv.drop([\"Id\"], axis=1).columns)\n",
    "dtf_scaled[\"Id\"] = dfv[\"Id\"]\n",
    "dfv = dtf_scaled\n",
    "\n",
    "#features selection\n",
    "dfv = dfv[[\"Id\", \"Curricular units 2nd sem (approved)\", \"valid_enroll_sem2\", \"valid_enroll_sem1\", \"gap_enroll_valid\",\n",
    "\"Curricular units 2nd sem (grade)\",\n",
    "\"Curricular units 2nd sem (evaluations)\",\n",
    "\"Age at enrollment\",\n",
    "\"Tuition fees up to date\",\n",
    "\"Unemployment rate\",\n",
    "\"GDP\",\n",
    "\"Inflation rate\",\n",
    "\"Curricular units 2nd sem (enrolled)\",\n",
    "\"Scholarship holder\",\n",
    "\"Application order\",\n",
    "\"Debtor\",\n",
    "\"Gender\",\n",
    "\"Application mode_1\",\n",
    "\"Mother's occupation_10\", \"Mother's occupation_1\", \"Father's occupation_12\", \"Father's occupation_1\",\n",
    "\"Displaced\"]]\n",
    "\n",
    "\n",
    "#Validation score see\n",
    "\n",
    "X_test = dfv[[\"Curricular units 2nd sem (approved)\", \"valid_enroll_sem2\", \"valid_enroll_sem1\", \"gap_enroll_valid\",\n",
    "\"Curricular units 2nd sem (grade)\",\n",
    "\"Curricular units 2nd sem (evaluations)\",\n",
    "\"Age at enrollment\",\n",
    "\"Tuition fees up to date\",\n",
    "\"Unemployment rate\",\n",
    "\"GDP\",\n",
    "\"Inflation rate\",\n",
    "\"Curricular units 2nd sem (enrolled)\",\n",
    "\"Scholarship holder\",\n",
    "\"Application order\",\n",
    "\"Debtor\",\n",
    "\"Gender\",\n",
    "\"Application mode_1\",\n",
    "\"Mother's occupation_10\", \"Mother's occupation_1\", \"Father's occupation_12\", \"Father's occupation_1\",\n",
    "\"Displaced\"]].values\n",
    "loaded_model = pickle.load(open(\"finalized_model_academic_V4.sav\", 'rb'))\n",
    "result = loaded_model.predict(X_test)\n",
    "submit_df = pd.DataFrame()\n",
    "submit_df['Id'] = dfv[\"Id\"]\n",
    "submit_df['Category'] = result\n",
    "submit_df.to_csv(\"sample_submission_4.csv\", index= False)"
   ]
  }
 ],
 "metadata": {
  "kernelspec": {
   "display_name": "Python 3.10.8 64-bit",
   "language": "python",
   "name": "python3"
  },
  "language_info": {
   "codemirror_mode": {
    "name": "ipython",
    "version": 3
   },
   "file_extension": ".py",
   "mimetype": "text/x-python",
   "name": "python",
   "nbconvert_exporter": "python",
   "pygments_lexer": "ipython3",
   "version": "3.10.8"
  },
  "orig_nbformat": 4,
  "vscode": {
   "interpreter": {
    "hash": "aee8b7b246df8f9039afb4144a1f6fd8d2ca17a180786b69acc140d282b71a49"
   }
  }
 },
 "nbformat": 4,
 "nbformat_minor": 2
}
