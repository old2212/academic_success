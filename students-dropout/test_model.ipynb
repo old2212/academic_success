{
 "cells": [
  {
   "cell_type": "code",
   "execution_count": 2,
   "metadata": {},
   "outputs": [],
   "source": [
    "## for data\n",
    "import pandas as pd\n",
    "import numpy as np\n",
    "## for plotting\n",
    "import matplotlib.pyplot as plt\n",
    "import seaborn as sns\n",
    "import matplotlib.axes\n",
    "## for statistical tests\n",
    "import scipy\n",
    "# import statsmodels.formula.api as smf\n",
    "# import statsmodels.api as sm\n",
    "## for machine learning\n",
    "from sklearn import model_selection, preprocessing, feature_selection, ensemble, linear_model, metrics, decomposition\n",
    "## for explainer\n",
    "# from lime import lime_tabular\n",
    "import matplotlib.ticker as plticker\n",
    "import pickle"
   ]
  },
  {
   "cell_type": "code",
   "execution_count": 3,
   "metadata": {},
   "outputs": [
    {
     "ename": "NameError",
     "evalue": "name 'finalized_model_academic' is not defined",
     "output_type": "error",
     "traceback": [
      "\u001b[0;31m---------------------------------------------------------------------------\u001b[0m",
      "\u001b[0;31mNameError\u001b[0m                                 Traceback (most recent call last)",
      "Cell \u001b[0;32mIn [3], line 8\u001b[0m\n\u001b[1;32m      5\u001b[0m X_test \u001b[39m=\u001b[39m df[X_names]\u001b[39m.\u001b[39mvalues\n\u001b[1;32m      6\u001b[0m y_test \u001b[39m=\u001b[39m df[\u001b[39m\"\u001b[39m\u001b[39mCategory\u001b[39m\u001b[39m\"\u001b[39m]\u001b[39m.\u001b[39mvalues\n\u001b[0;32m----> 8\u001b[0m loaded_model \u001b[39m=\u001b[39m pickle\u001b[39m.\u001b[39mload(\u001b[39mopen\u001b[39m(finalized_model_academic\u001b[39m.\u001b[39msav, \u001b[39m'\u001b[39m\u001b[39mrb\u001b[39m\u001b[39m'\u001b[39m))\n\u001b[1;32m      9\u001b[0m result \u001b[39m=\u001b[39m loaded_model\u001b[39m.\u001b[39mscore(X_test, y_test)\n\u001b[1;32m     10\u001b[0m \u001b[39mprint\u001b[39m(result)\n",
      "\u001b[0;31mNameError\u001b[0m: name 'finalized_model_academic' is not defined"
     ]
    }
   ],
   "source": [
    "# load the model from disk\n",
    "\n",
    "df = pd.read_csv(\"validation.csv\")\n",
    "X_names = [\"Previous qualification\", \"Father's qualification\", \"Debtor\", \"Age at enrollment\", \"Scholarship holder\"]\n",
    "X_test = df[X_names].values\n",
    "y_test = df[\"Category\"].values\n",
    "\n",
    "loaded_model = pickle.load(open(finalized_model_academic.sav, 'rb'))\n",
    "result = loaded_model.score(X_test, y_test)\n",
    "print(result)"
   ]
  },
  {
   "cell_type": "code",
   "execution_count": null,
   "metadata": {},
   "outputs": [],
   "source": []
  }
 ],
 "metadata": {
  "kernelspec": {
   "display_name": "Python 3.10.8 ('NEW_ENV_ACA': venv)",
   "language": "python",
   "name": "python3"
  },
  "language_info": {
   "codemirror_mode": {
    "name": "ipython",
    "version": 3
   },
   "file_extension": ".py",
   "mimetype": "text/x-python",
   "name": "python",
   "nbconvert_exporter": "python",
   "pygments_lexer": "ipython3",
   "version": "3.10.8"
  },
  "orig_nbformat": 4,
  "vscode": {
   "interpreter": {
    "hash": "6e2e08da7a580f25092d04ba95b0d18c2d5d2c6b2c2a58d4fee2ebd0fcf2970d"
   }
  }
 },
 "nbformat": 4,
 "nbformat_minor": 2
}
