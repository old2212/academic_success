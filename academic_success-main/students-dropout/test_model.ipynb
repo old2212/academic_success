{
 "cells": [
  {
   "cell_type": "code",
   "execution_count": 8,
   "metadata": {},
   "outputs": [],
   "source": [
    "## for data\n",
    "import pandas as pd\n",
    "import numpy as np\n",
    "## for plotting\n",
    "import matplotlib.pyplot as plt\n",
    "import seaborn as sns\n",
    "import matplotlib.axes\n",
    "## for statistical tests\n",
    "import scipy\n",
    "# import statsmodels.formula.api as smf\n",
    "# import statsmodels.api as sm\n",
    "## for machine learning\n",
    "from sklearn import model_selection, preprocessing, feature_selection, ensemble, linear_model, metrics, decomposition\n",
    "## for explainer\n",
    "# from lime import lime_tabular\n",
    "import matplotlib.ticker as plticker\n",
    "import pickle"
   ]
  },
  {
   "cell_type": "code",
   "execution_count": 10,
   "metadata": {},
   "outputs": [
    {
     "name": "stdout",
     "output_type": "stream",
     "text": [
      "0.5798192771084337\n"
     ]
    },
    {
     "data": {
      "text/plain": [
       "Index(['Id', 'Marital status', 'Application mode', 'Application order',\n",
       "       'Course', 'Daytime/evening attendance', 'Previous qualification',\n",
       "       'Nacionality', 'Mother's qualification', 'Father's qualification',\n",
       "       'Mother's occupation', 'Father's occupation', 'Displaced',\n",
       "       'Educational special needs', 'Debtor', 'Tuition fees up to date',\n",
       "       'Gender', 'Scholarship holder', 'Age at enrollment', 'International',\n",
       "       'Curricular units 1st sem (credited)',\n",
       "       'Curricular units 1st sem (enrolled)',\n",
       "       'Curricular units 1st sem (evaluations)',\n",
       "       'Curricular units 1st sem (approved)',\n",
       "       'Curricular units 1st sem (grade)',\n",
       "       'Curricular units 1st sem (without evaluations)',\n",
       "       'Curricular units 2nd sem (credited)',\n",
       "       'Curricular units 2nd sem (enrolled)',\n",
       "       'Curricular units 2nd sem (evaluations)',\n",
       "       'Curricular units 2nd sem (approved)',\n",
       "       'Curricular units 2nd sem (grade)',\n",
       "       'Curricular units 2nd sem (without evaluations)', 'Unemployment rate',\n",
       "       'Inflation rate', 'GDP', 'Category'],\n",
       "      dtype='object')"
      ]
     },
     "execution_count": 10,
     "metadata": {},
     "output_type": "execute_result"
    }
   ],
   "source": [
    "# Test the model on validation set of data\n",
    "\n",
    "df = pd.read_csv(\"validation.csv\")\n",
    "X_names = [\"Previous qualification\", \"Father's qualification\", \"Debtor\", \"Age at enrollment\", \"Scholarship holder\"]\n",
    "X_validation = df[X_names].values\n",
    "y_validation = df[\"Category\"].values\n",
    "\n",
    "loaded_model = pickle.load(open(\"finalized_model_academic.sav\", 'rb'))\n",
    "result = loaded_model.score(X_validation, y_validation)\n",
    "print(result)\n",
    "\n",
    "df.columns"
   ]
  },
  {
   "cell_type": "code",
   "execution_count": 16,
   "metadata": {},
   "outputs": [],
   "source": [
    "#Predit on the test set\n",
    "df = pd.read_csv(\"test.csv\")\n",
    "# test_features = [\"Id\", \"Previous qualification\", \"Father's qualification\", \"Debtor\", \"Age at enrollment\", \"Scholarship holder\"]\n",
    "X_test = df[[\"Previous qualification\", \"Father's qualification\", \"Debtor\", \"Age at enrollment\", \"Scholarship holder\"]].values\n",
    "result = loaded_model.predict(X_test)\n",
    "submit_df = pd.DataFrame()\n",
    "submit_df['Id'] = df[\"Id\"]\n",
    "submit_df['Category'] = result\n",
    "submit_df.to_csv(\"sample_submission.csv\", index= False)"
   ]
  },
  {
   "cell_type": "code",
   "execution_count": null,
   "metadata": {},
   "outputs": [],
   "source": []
  }
 ],
 "metadata": {
  "kernelspec": {
   "display_name": "Python 3.10.8 ('NEW_ENV_ACA': venv)",
   "language": "python",
   "name": "python3"
  },
  "language_info": {
   "codemirror_mode": {
    "name": "ipython",
    "version": 3
   },
   "file_extension": ".py",
   "mimetype": "text/x-python",
   "name": "python",
   "nbconvert_exporter": "python",
   "pygments_lexer": "ipython3",
   "version": "3.10.8"
  },
  "orig_nbformat": 4,
  "vscode": {
   "interpreter": {
    "hash": "6e2e08da7a580f25092d04ba95b0d18c2d5d2c6b2c2a58d4fee2ebd0fcf2970d"
   }
  }
 },
 "nbformat": 4,
 "nbformat_minor": 2
}
