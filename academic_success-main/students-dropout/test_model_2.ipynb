{
 "cells": [
  {
   "cell_type": "code",
   "execution_count": 10,
   "metadata": {},
   "outputs": [],
   "source": [
    "## for data\n",
    "import pandas as pd\n",
    "import numpy as np\n",
    "## for plotting\n",
    "import matplotlib.pyplot as plt\n",
    "import seaborn as sns\n",
    "import matplotlib.axes\n",
    "## for statistical tests\n",
    "import scipy\n",
    "# import statsmodels.formula.api as smf\n",
    "# import statsmodels.api as sm\n",
    "## for machine learning\n",
    "from sklearn import model_selection, preprocessing, feature_selection, ensemble, linear_model, metrics, decomposition\n",
    "## for explainer\n",
    "# from lime import lime_tabular\n",
    "import matplotlib.ticker as plticker\n",
    "import pickle"
   ]
  },
  {
   "cell_type": "code",
   "execution_count": 11,
   "metadata": {},
   "outputs": [],
   "source": [
    "#Predit on the test set\n",
    "dfs = pd.read_csv(\"validation.csv\")"
   ]
  },
  {
   "cell_type": "code",
   "execution_count": 12,
   "metadata": {},
   "outputs": [],
   "source": [
    "#ENCODING\n",
    "dfs = pd.get_dummies(dfs, columns=['Marital status'])\n",
    "dfs = pd.get_dummies(dfs, columns=['Application mode'])\n",
    "dfs = pd.get_dummies(dfs, columns=['Course'])\n",
    "dfs = pd.get_dummies(dfs, columns=['Previous qualification'])\n",
    "dfs = pd.get_dummies(dfs, columns=['Nacionality'])\n",
    "dfs = pd.get_dummies(dfs, columns=[\"Mother's occupation\"])\n",
    "dfs = pd.get_dummies(dfs, columns=[\"Father's occupation\"])\n",
    "dfs = dfs.drop([\"Mother's qualification\", \"Father's qualification\", \"Curricular units 2nd sem (credited)\" ], axis=1)\n",
    "\n",
    "#MinMax-Scaler\n",
    "scaler = preprocessing.MinMaxScaler(feature_range=(0,1))\n",
    "X = scaler.fit_transform(dfs.drop(\"Category\", axis=1))\n",
    "# X = scaler.fit_transform(dfs)\n",
    "dtf_scaled= pd.DataFrame(X, columns=dfs.drop(\"Category\", axis=1).columns, index=dfs.index)\n",
    "# dtf_scaled= pd.DataFrame(X, columns=dfs.columns, index=dfs.index)\n",
    "# dtf_scaled[\"Category\"] = dfs[\"Category\"]\n",
    "\n",
    "#features selection & dont forget to add category for verification part!\n",
    "df = dfs[[\"Id\", \"Curricular units 2nd sem (approved)\",\n",
    "\"Curricular units 2nd sem (grade)\",\n",
    "\"Curricular units 2nd sem (evaluations)\",\n",
    "\"Age at enrollment\",\n",
    "\"Tuition fees up to date\",\n",
    "\"Unemployment rate\",\n",
    "\"GDP\",\n",
    "\"Inflation rate\",\n",
    "\"Curricular units 2nd sem (enrolled)\",\n",
    "\"Scholarship holder\",\n",
    "\"Application order\",\n",
    "\"Debtor\",\n",
    "\"Gender\",\n",
    "\"Application mode_1\",\n",
    "\"Mother's occupation_10\",\n",
    "\"Displaced\", \"Category\"]]"
   ]
  },
  {
   "cell_type": "code",
   "execution_count": 13,
   "metadata": {},
   "outputs": [],
   "source": [
    "loaded_model = pickle.load(open(\"finalized_model_academic_V2.sav\", 'rb'))"
   ]
  },
  {
   "cell_type": "code",
   "execution_count": 14,
   "metadata": {},
   "outputs": [
    {
     "name": "stdout",
     "output_type": "stream",
     "text": [
      "0.7552710843373494\n"
     ]
    }
   ],
   "source": [
    "#Validation score see\n",
    "\n",
    "X_validation = df[[\"Curricular units 2nd sem (approved)\",\n",
    "\"Curricular units 2nd sem (grade)\",\n",
    "\"Curricular units 2nd sem (evaluations)\",\n",
    "\"Age at enrollment\",\n",
    "\"Tuition fees up to date\",\n",
    "\"Unemployment rate\",\n",
    "\"GDP\",\n",
    "\"Inflation rate\",\n",
    "\"Curricular units 2nd sem (enrolled)\",\n",
    "\"Scholarship holder\",\n",
    "\"Application order\",\n",
    "\"Debtor\",\n",
    "\"Gender\",\n",
    "\"Application mode_1\",\n",
    "\"Mother's occupation_10\",\n",
    "\"Displaced\"]].values\n",
    "y_validation = df[\"Category\"].values\n",
    "\n",
    "loaded_model = pickle.load(open(\"finalized_model_academic_V2.sav\", 'rb'))\n",
    "result = loaded_model.score(X_validation, y_validation)\n",
    "print(result)"
   ]
  },
  {
   "cell_type": "code",
   "execution_count": 15,
   "metadata": {},
   "outputs": [],
   "source": [
    "\n",
    "# X_test = df[[\"Curricular units 2nd sem (approved)\",\n",
    "# \"Curricular units 2nd sem (grade)\",\n",
    "# \"Curricular units 2nd sem (evaluations)\",\n",
    "# \"Age at enrollment\",\n",
    "# \"Tuition fees up to date\",\n",
    "# \"Unemployment rate\",\n",
    "# \"GDP\",\n",
    "# \"Inflation rate\",\n",
    "# \"Curricular units 2nd sem (enrolled)\",\n",
    "# \"Scholarship holder\",\n",
    "# \"Application order\",\n",
    "# \"Debtor\",\n",
    "# \"Gender\",\n",
    "# \"Application mode_1\",\n",
    "# \"Mother's occupation_10\",\n",
    "# \"Displaced\"]].values\n",
    "# result = loaded_model.predict(X_test)\n",
    "# result\n",
    "# submit_df = pd.DataFrame()\n",
    "# submit_df['Id'] = df[\"Id\"]\n",
    "# submit_df['Category'] = result\n",
    "# submit_df.to_csv(\"sample_submission_V2.csv\", index= False)\n",
    "\n"
   ]
  }
 ],
 "metadata": {
  "kernelspec": {
   "display_name": "Python 3.10.8 ('NEW_ENV_ACA': venv)",
   "language": "python",
   "name": "python3"
  },
  "language_info": {
   "codemirror_mode": {
    "name": "ipython",
    "version": 3
   },
   "file_extension": ".py",
   "mimetype": "text/x-python",
   "name": "python",
   "nbconvert_exporter": "python",
   "pygments_lexer": "ipython3",
   "version": "3.10.8"
  },
  "orig_nbformat": 4,
  "vscode": {
   "interpreter": {
    "hash": "6e2e08da7a580f25092d04ba95b0d18c2d5d2c6b2c2a58d4fee2ebd0fcf2970d"
   }
  }
 },
 "nbformat": 4,
 "nbformat_minor": 2
}
